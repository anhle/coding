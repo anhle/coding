{
 "cells": [
  {
   "cell_type": "markdown",
   "metadata": {},
   "source": [
    "## 387. First Unique Character in a String\n",
    "<div class=\"alert alert-block alert-success\">\n",
    "Given a string, find the first non-repeating character in it and return it's index. If it doesn't exist, return -1.\n",
    "\n",
    "Examples:\n",
    "\n",
    "s = \"leetcode\"\n",
    "return 0.\n",
    "</div>\n",
    "You should first ask your interviewer if the string is an ASCII string or a Unicode string. We'll assume for simplicity the character set is ASCII. If this assumption is not valid, we would need to increase the storage size.\n",
    "\n",
    "**Approach 1**: Linear time solution\n",
    "The idea is to go through the string and save in a hash map the number of times each character appears in the string. That would take O(N) time. Then we go through the string the second time, this time we use the hash map as a reference to check if a character is unique or not.\n",
    "If the character is unique, one could just return its index. "
   ]
  },
  {
   "cell_type": "code",
   "execution_count": 4,
   "metadata": {},
   "outputs": [
    {
     "name": "stdout",
     "output_type": "stream",
     "text": [
      "0\n"
     ]
    }
   ],
   "source": [
    "import collections\n",
    "def firstUniqChar(s):\n",
    "    # build freq map\n",
    "    cnt = collections.Counter(s)\n",
    "    for i in range(len(s)):\n",
    "        if cnt[s[i]] == 1:\n",
    "            return i\n",
    "    return -1\n",
    "\n",
    "def firstUniqChar1(s):\n",
    "    cnt = [0]*26\n",
    "    for c in s:\n",
    "        cnt[ord(c)-ord('a')] +=1\n",
    "    for i,c in enumerate(s):\n",
    "        if cnt[ord(c)-ord('a')] == 1:\n",
    "            return i\n",
    "print(firstUniqChar1(\"leetcode\"))"
   ]
  },
  {
   "cell_type": "markdown",
   "metadata": {},
   "source": [
    "## 54. Spiral Matrix\n",
    "<div class=\"alert alert-block alert-success\">\n",
    "Given a matrix of m x n elements (m rows, n columns), return all elements of the matrix in spiral order.\n",
    "\n",
    "Example 1:\n",
    "\n",
    "Input: <br>\n",
    "[<br>\n",
    " [ 1, 2, 3 ],<br>\n",
    " [ 4, 5, 6 ],<br>\n",
    " [ 7, 8, 9 ]<br>\n",
    "]<br>\n",
    "Output: [1,2,3,6,9,8,7,4,5]\n",
    "</div>"
   ]
  }
 ],
 "metadata": {
  "kernelspec": {
   "display_name": "Python 3",
   "language": "python",
   "name": "python3"
  },
  "language_info": {
   "codemirror_mode": {
    "name": "ipython",
    "version": 3
   },
   "file_extension": ".py",
   "mimetype": "text/x-python",
   "name": "python",
   "nbconvert_exporter": "python",
   "pygments_lexer": "ipython3",
   "version": "3.5.2"
  }
 },
 "nbformat": 4,
 "nbformat_minor": 2
}
