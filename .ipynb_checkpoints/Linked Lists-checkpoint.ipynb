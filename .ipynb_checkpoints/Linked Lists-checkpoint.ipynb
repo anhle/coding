{
 "cells": [
  {
   "cell_type": "markdown",
   "metadata": {},
   "source": [
    "## 2.1 Remove Dups: Write code to remove duplicates from an unsorted linked list. Follow Up: No Buffer Allowed\n",
    "In order to remove duplicates from a linked list, we need to be able to track duplicates. A simple hash table will work well here.\n",
    "If we don't have a buffer, we can iterate with two pointers: current which iterates through the linked list, and runner which checks all subsequent nodes for duplicates."
   ]
  },
  {
   "cell_type": "code",
   "execution_count": 19,
   "metadata": {
    "scrolled": true
   },
   "outputs": [
    {
     "name": "stdout",
     "output_type": "stream",
     "text": [
      "1,3,5\n"
     ]
    }
   ],
   "source": [
    "class Node():\n",
    "    def __init__(self, data, next=None):\n",
    "        self.data, self.next = data, next\n",
    "    def __str__(self):\n",
    "        string = str(self.data)\n",
    "        if self.next:\n",
    "          string += ',' + str(self.next)\n",
    "        return string\n",
    "    \n",
    "def removeDup(head):\n",
    "    current = head\n",
    "    if current:\n",
    "        dict = {current.data:True}\n",
    "        while current.next:\n",
    "            if current.next.data in dict:\n",
    "                current.next = current.next.next\n",
    "            else:\n",
    "                dict[current.next.data] = True\n",
    "                current = current.next\n",
    "\n",
    "def removeDup1(head):\n",
    "    current = head\n",
    "    while current:\n",
    "        runner = current\n",
    "        while runner.next:\n",
    "            if runner.next.data == current.data:\n",
    "                runner.next = runner.next.next\n",
    "            else:\n",
    "                runner = runner.next\n",
    "        \n",
    "        current = current.next\n",
    "            \n",
    "head = Node(1,Node(3,Node(3,Node(1,Node(5,None)))))\n",
    "removeDup1(head)\n",
    "print(str(head))\n"
   ]
  },
  {
   "cell_type": "markdown",
   "metadata": {},
   "source": [
    "## 2.2 Return Kth to Last: Implement an algorithm to find the kth to last element of a singly linked list.\n",
    "## 19. Remove Nth Node From End of List\n",
    "\n",
    "\n",
    "What if you knew the linked list size? What is the difference between finding the Kth-to- last element and finding the Xth element? --> 2 pass algo\n",
    "\n",
    "Try implementing it recursively. If you could find the (K - l )th to last element, can you\n",
    "find the Kth element?\n",
    "\n",
    "Can you do it iteratively? Imagine if you had two pointers pointing to adjacent nodes and they were moving at the same speed through the linked list. When one hits the end of the linked list, where will the other be?"
   ]
  },
  {
   "cell_type": "code",
   "execution_count": 20,
   "metadata": {},
   "outputs": [
    {
     "name": "stdout",
     "output_type": "stream",
     "text": [
      "7,2,9,1,3,8\n"
     ]
    }
   ],
   "source": [
    "class ListNode():\n",
    "    def __init__(self, data, next=None):\n",
    "        self.val, self.next = data, next\n",
    "    def __str__(self):\n",
    "        string = str(self.val)\n",
    "        if self.next:\n",
    "          string += ',' + str(self.next)\n",
    "        return string\n",
    "def removeNthFromEnd(head,n):\n",
    "    fast,slow = head, head\n",
    "    for _ in range(n):\n",
    "        fast = fast.next\n",
    "    # check conner case of removing the head right after the fast cursor got its head start.\n",
    "    if not fast:\n",
    "        return head.next\n",
    "    while fast.next:\n",
    "        slow = slow.next\n",
    "        fast = fast.next\n",
    "    slow.next = slow.next.next\n",
    "    return head\n",
    "head1 = ListNode(7,ListNode(2,ListNode(9,ListNode(1,ListNode(6,ListNode(3,ListNode(8)))))))\n",
    "head2 = removeNthFromEnd(head1, 3)\n",
    "print(str(head2))"
   ]
  },
  {
   "cell_type": "markdown",
   "metadata": {},
   "source": [
    "## 86. Partition List ( 2.4 Partition): Write code to partition a linked list around a value x, such that all nodes less than x come before all nodes greater than or equal to x. \n",
    "\n",
    "You should preserve the original relative order of the nodes in each of the two partitions.\n",
    "\n",
    "> Consider that the elements don't have to stay in the same relative order. We only need to ensure that elements less than the pivot must be before elements greater than the pivot. Does that help you come up with more solutions?\n",
    "\n",
    "If this were an array, we would need to be careful about how we shifted elements. Array shifts are very expensive.However, in a linked list, the situation is much easier. Rather than shifting and swapping elements, we can actually create two different linked lists: one for elements less than x, and one for elements greater than or equal to x."
   ]
  },
  {
   "cell_type": "code",
   "execution_count": 8,
   "metadata": {},
   "outputs": [
    {
     "name": "stdout",
     "output_type": "stream",
     "text": [
      "2,1,3,7,9,6,8\n"
     ]
    }
   ],
   "source": [
    "class ListNode():\n",
    "    def __init__(self, data, next=None):\n",
    "        self.val, self.next = data, next\n",
    "    def __str__(self):\n",
    "        string = str(self.val)\n",
    "        if self.next:\n",
    "          string += ',' + str(self.next)\n",
    "        return string\n",
    "    \n",
    "def partition(head, x):\n",
    "        less=h1 = ListNode(0)\n",
    "        greater=h2=ListNode(0)\n",
    "        while head:\n",
    "            if head.val < x:\n",
    "                less.next = head\n",
    "                less = less.next\n",
    "            else:\n",
    "                greater.next = head\n",
    "                greater = greater.next\n",
    "            head = head.next\n",
    "        greater.next = None\n",
    "        less.next = h2.next\n",
    "        return h1.next\n",
    "head1 = ListNode(7,ListNode(2,ListNode(9,ListNode(1,ListNode(6,ListNode(3,ListNode(8)))))))\n",
    "head2 = partition(head1, 6)\n",
    "print(str(head2))"
   ]
  },
  {
   "cell_type": "markdown",
   "metadata": {},
   "source": [
    "<div class=\"alert alert-block alert-success\">\n",
    "23. Merge k Sorted Lists\n",
    "Merge k sorted linked lists and return it as one sorted list. Analyze and describe its complexity.\n",
    "Example:\n",
    "Input:\n",
    "[\n",
    "  1->4->5,\n",
    "  1->3->4,\n",
    "  2->6\n",
    "]\n",
    "Output: 1->1->2->3->4->4->5->6\n",
    "</div>"
   ]
  }
 ],
 "metadata": {
  "kernelspec": {
   "display_name": "Python 3",
   "language": "python",
   "name": "python3"
  },
  "language_info": {
   "codemirror_mode": {
    "name": "ipython",
    "version": 3
   },
   "file_extension": ".py",
   "mimetype": "text/x-python",
   "name": "python",
   "nbconvert_exporter": "python",
   "pygments_lexer": "ipython3",
   "version": "3.5.2"
  }
 },
 "nbformat": 4,
 "nbformat_minor": 2
}
