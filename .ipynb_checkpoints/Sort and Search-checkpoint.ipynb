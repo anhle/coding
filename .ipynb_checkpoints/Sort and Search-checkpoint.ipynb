{
 "cells": [
  {
   "cell_type": "markdown",
   "metadata": {},
   "source": [
    "## 10.2 Group Anagrams\n",
    "<div class=\"alert alert-block alert-success\">\n",
    "Given an array of strings, group anagrams together.\n",
    "\n",
    "Example:\n",
    "\n",
    "Input: [\"eat\", \"tea\", \"tan\", \"ate\", \"nat\", \"bat\"],\n",
    "Output:\n",
    "[\n",
    "  [\"ate\",\"eat\",\"tea\"],\n",
    "  [\"nat\",\"tan\"],\n",
    "  [\"bat\"]\n",
    "]\n",
    "</div>\n",
    "How do you check if two words are anagrams of each other? Think about what the defi- nition of \"anagram\" is. Explain it in your own words. Two words are anagrams if they contain the same characters but in different orders. How can you put characters in order? Can you leverage a standard sorting algorithm? Do you even need to truly \"sort\"? Or is just reorganizing the list sufficient?"
   ]
  },
  {
   "cell_type": "code",
   "execution_count": 4,
   "metadata": {},
   "outputs": [
    {
     "name": "stdout",
     "output_type": "stream",
     "text": [
      "[['arts', 'star'], ['cat'], ['bat', 'tab'], ['car'], ['rat', 'tar']]\n"
     ]
    }
   ],
   "source": [
    "def groupAnagram(strings):\n",
    "    pairs = [(s,sorted(s)) for s in strings]\n",
    "    pairs.sort(key = lambda p : p[1])\n",
    "    return [ p[0] for p in pairs]\n",
    "\n",
    "import collections\n",
    "def groupAnagram1(strs):\n",
    "    d = collections.defaultdict(list)\n",
    "    for s in strs:\n",
    "        d[tuple(sorted(s))].append(s)  \n",
    "    return list(d.values())\n",
    "\n",
    "strings = [\"cat\", \"bat\", \"rat\", \"arts\", \"tab\", \"tar\", \"car\", \"star\"]\n",
    "print(groupAnagram1(strings))"
   ]
  },
  {
   "cell_type": "markdown",
   "metadata": {},
   "source": [
    "## 217. Contains Duplicate\n",
    "<div class=\"alert alert-block alert-success\">\n",
    "Given an array of integers, find if the array contains any duplicates.\n",
    "Example 1:\n",
    "\n",
    "Input: [1,2,3,1]\n",
    "Output: true\n",
    "</div>\n",
    "## 219. Contains Duplicate II\n",
    "<div class=\"alert alert-block alert-success\">\n",
    "Given an array of integers and an integer k, find out whether there are two distinct indices i and j in the array such that nums[i] = nums[j] and the absolute difference between i and j is at most k.\n",
    "Example 1:\n",
    "\n",
    "Input: nums = [1,2,3,1], k = 3\n",
    "Output: true\n",
    "</div>\n",
    "## 287. Find the Duplicate Number\n",
    "<div class=\"alert alert-block alert-success\">\n",
    "Given an array nums containing n + 1 integers where each integer is between 1 and n (inclusive). You must use only constant, O(1) extra space.\n",
    "Example 1:\n",
    "\n",
    "Input: [1,3,4,2,2]\n",
    "Output: 2\n",
    "</div>\n",
    "**Approach 1** Binary search: At first the search space is numbers between 1 to n. Each time I select a number mid (which is the one in the middle) and count all the numbers equal to or less than mid. Then if the count is more than mid, the search space will be [1 mid] otherwise [mid+1 n]. I do this until search space is only one number.\n",
    "\n",
    "**Approach 2** "
   ]
  },
  {
   "cell_type": "code",
   "execution_count": 8,
   "metadata": {},
   "outputs": [
    {
     "name": "stdout",
     "output_type": "stream",
     "text": [
      "True\n",
      "True\n",
      "1\n"
     ]
    }
   ],
   "source": [
    "def containsDuplicate(nums):\n",
    "    return len(nums) != len(set(nums))\n",
    "\n",
    "def containsNearbyDuplicate(nums,k):\n",
    "    dict = {}\n",
    "    for i in range(len(nums)):\n",
    "        if nums[i] in dict and i - dict[nums[i]] <= k:\n",
    "            return True\n",
    "        dict[nums[i]] = i\n",
    "    return False\n",
    "\n",
    "# Binary search, O(nlogn) time\n",
    "def findDuplicate(nums):\n",
    "    low, high = 1,len(nums)-1\n",
    "    while low <= high:\n",
    "        mid = low + (high -low)//2\n",
    "        cnt = len([num for num in nums if num <= mid ])\n",
    "        if cnt <= mid :\n",
    "            low = mid +1\n",
    "        else:\n",
    "            high = mid -1\n",
    "    return low\n",
    "print(containsDuplicate([1,2,3,1]))\n",
    "print(containsNearbyDuplicate([1,2,3,1],3))\n",
    "print(findDuplicate ([1,2,3,1]))"
   ]
  },
  {
   "cell_type": "markdown",
   "metadata": {},
   "source": [
    "## 1. Two Sum\n",
    "<div class=\"alert alert-block alert-success\">\n",
    "Given an array of integers, return indices of the two numbers such that they add up to a specific target.\n",
    "\n",
    "You may assume that each input would have exactly one solution, and you may not use the same element twice.\n",
    "\n",
    "Example:\n",
    "\n",
    "Given nums = [2, 7, 11, 15], target = 9\n",
    "</div>\n",
    "**Approach 1** Brute Force . O(n^2) time\n",
    "**Approach 2** 02 pass, hashtable. We reduce the look up time from O(n) to O(1) by trading space for speed.\n",
    "**Approach 2** 01 pass : While we iterate and inserting elements into the table, we also look back to check if current element's complement already exists in the table. If it exists, we have found a solution and return immediately.\n",
    "\n",
    "## 40. Combination Sum II\n",
    "<div class=\"alert alert-block alert-success\">\n",
    "Given a collection of candidate numbers (candidates) and a target number (target), find all unique combinations in candidates where the candidate numbers sums to target.\n",
    "\n",
    "Each number in candidates may only be used once in the combination.\n",
    "\n",
    "All numbers (including target) will be positive integers.\n",
    "The solution set must not contain duplicate combinations.\n",
    "Example 1:\n",
    "\n",
    "Input: candidates = [10,1,2,7,6,1,5], target = 8,\n",
    "A solution set is:\n",
    "[\n",
    "  [1, 7],\n",
    "  [1, 2, 5],\n",
    "  [2, 6],\n",
    "  [1, 1, 6]\n",
    "]\n",
    "</div>\n",
    "## 494. Target Sum\n",
    "You are given a list of non-negative integers, a1, a2, ..., an, and a target, S. Now you have 2 symbols + and -. For each integer, you should choose one from + and - as its new symbol.\n",
    "\n",
    "Find out how many ways to assign symbols to make sum of integers equal to target S.\n",
    "Input: nums is [1, 1, 1, 1, 1], S is 3. \n",
    "Output: 5\n",
    "Explanation: \n",
    "\n",
    "-1+1+1+1+1 = 3\n",
    "+1-1+1+1+1 = 3\n",
    "+1+1-1+1+1 = 3\n",
    "+1+1+1-1+1 = 3\n",
    "+1+1+1+1-1 = 3"
   ]
  },
  {
   "cell_type": "code",
   "execution_count": 9,
   "metadata": {},
   "outputs": [
    {
     "name": "stdout",
     "output_type": "stream",
     "text": [
      "[1, 0]\n"
     ]
    }
   ],
   "source": [
    "def twoSum(nums,target):\n",
    "    dict = {}\n",
    "    for i in range(len(nums)):\n",
    "        if target - nums[i] in dict:\n",
    "            return [i,dict[target - nums[i]]]\n",
    "        dict[nums[i]] = i\n",
    "print(twoSum([2, 7, 11, 15],9))"
   ]
  }
 ],
 "metadata": {
  "kernelspec": {
   "display_name": "Python 3",
   "language": "python",
   "name": "python3"
  },
  "language_info": {
   "codemirror_mode": {
    "name": "ipython",
    "version": 3
   },
   "file_extension": ".py",
   "mimetype": "text/x-python",
   "name": "python",
   "nbconvert_exporter": "python",
   "pygments_lexer": "ipython3",
   "version": "3.5.2"
  }
 },
 "nbformat": 4,
 "nbformat_minor": 2
}
