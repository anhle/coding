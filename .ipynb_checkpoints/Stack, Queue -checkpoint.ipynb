{
 "cells": [
  {
   "cell_type": "markdown",
   "metadata": {},
   "source": [
    "## Three in One: Describe how you could use a single array to implement three stacks.\n",
    "\n",
    "A stack is simply a data structure in which the most recently added elements are removed first. Can you simulate a single stack using an array? If we're okay with simply allocating a fixed amount of space for each stack, we can do that. This may mean though that one stack runs out of space, while the others are nearly empty.\n",
    "\n",
    "If you want to allow for flexible divisions, you can shift stacks around. Can you ensure that all available capacity is used?\n",
    "\n",
    "Try thinking about the array as circular, such that the end of the array \"wraps around\" to the start of the array."
   ]
  },
  {
   "cell_type": "markdown",
   "metadata": {},
   "source": [
    "## 3.2 Stack Min: How would you design a stack which, in addition to push and pop, has a function min which returns the minimum element? Push, pop and min should all operate in 0(1) time.\n",
    "\n",
    "Observe that the minimum element doesn't change very often. It only changes when a smaller element is added, or when the smallest element is popped.\n",
    "\n",
    "What if we kept track of extra data at each stack node? What sort of data might make it easier to solve the problem?\n",
    "> One solution is to have just a single int value, minValue, that's a member of the Stack class. When minV alue is popped from the stack, we search through the stack to find the new minimum. Unfortunately, this would break the constraint that push and pop operate in O( 1) time.\n",
    "\n",
    "If we kept track of the minimum at each state, we would be able to easily know the minimum. Consider having each node know the minimum of its \"substack\" (all the elements beneath it, including itself).Then, to find the min, you just look at what the top element thinks is the min.\n",
    "\n",
    "> There's just one issue with this: if we have a large stack, we waste a lot of space by keeping track of the min for every single element. Can we do better?\n",
    "\n",
    "> We can (maybe) do a bit better than this by using an additional stack which keeps track of the mins."
   ]
  },
  {
   "cell_type": "code",
   "execution_count": null,
   "metadata": {},
   "outputs": [],
   "source": [
    "class MinStack:\n",
    "    def __init__(self):\n",
    "        self.stack = []\n",
    "        self.minstack = []\n",
    "\n",
    "    def push(self, x):\n",
    "        \"\"\"\n",
    "        :type x: int\n",
    "        :rtype: void\n",
    "        \"\"\"\n",
    "        self.stack.append(x)\n",
    "        if len(self.minstack) == 0 or x <= self.minstack[-1]:\n",
    "            self.minstack.append(x)\n",
    "            \n",
    "    def pop(self):\n",
    "        \"\"\"\n",
    "        :rtype: void\n",
    "        \"\"\"\n",
    "        \n",
    "        if self.stack[-1] == self.minstack[-1]:\n",
    "            self.minstack.pop()\n",
    "        self.stack.pop()\n",
    "\n",
    "    def top(self):\n",
    "        \"\"\"\n",
    "        :rtype: int\n",
    "        \"\"\"\n",
    "        return self.stack[-1]\n",
    "\n",
    "    def getMin(self):\n",
    "        \"\"\"\n",
    "        :rtype: int\n",
    "        \"\"\"\n",
    "        return self.minstack[-1]\n",
    "\n",
    "\n",
    "# Your MinStack object will be instantiated and called as such:\n",
    "# obj = MinStack()\n",
    "# obj.push(x)\n",
    "# obj.pop()\n",
    "# param_3 = obj.top()\n",
    "# param_4 = obj.getMin()"
   ]
  },
  {
   "cell_type": "markdown",
   "metadata": {},
   "source": [
    "## Sort Stack: Write a program to sort a stack such that the smallest items are on the top. You can use an additional temporary stack, but you may not copy the elements into any other data structure (such as an array). The stack supports the following operations: push, pop, peek, and isEmpty.\n",
    "Hints: # 75, #32, #43"
   ]
  }
 ],
 "metadata": {
  "kernelspec": {
   "display_name": "Python 3",
   "language": "python",
   "name": "python3"
  },
  "language_info": {
   "codemirror_mode": {
    "name": "ipython",
    "version": 3
   },
   "file_extension": ".py",
   "mimetype": "text/x-python",
   "name": "python",
   "nbconvert_exporter": "python",
   "pygments_lexer": "ipython3",
   "version": "3.5.2"
  }
 },
 "nbformat": 4,
 "nbformat_minor": 2
}
