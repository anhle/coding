{
 "cells": [
  {
   "cell_type": "markdown",
   "metadata": {},
   "source": [
    "# Trees and Graphs\n",
    "**Trees vs. Binary Trees**\n",
    "A binary tree is a tree in which each node has up to two children . Not all trees are binary trees. For example,\n",
    "this tree is not a binary tree. You could call it a ternary tree.\n",
    "\n",
    "**Binary Tree vs. Binary Search Tree**\n",
    "A binary search tree is a binary tree in which every node fits a specific ordering property: a left descendents <= n < all right descendents.This must be true for each node n.\n",
    "\n",
    "**Balanced vs. Unbalanced**\n",
    "Note that balancing a tree does not mean the left and right subtrees are exactly the same size.One way to think about it is that a \"balanced\" tree really means something more like \"not terribly imbalanced:'It's balanced enough to ensure O(log n) times for insert and find,but it's not necessarily as balanced as it could be.\n",
    "\n",
    "**Complete Binary Trees**\n",
    "A complete binary tree is a binary tree in which every level of the tree is fully filled, except for perhaps the\n",
    "last level. To the extent that the last level is filled, it is filled left to right.\n",
    "\n",
    "**Full Binary Trees**\n",
    "A full binary tree is a binary tree in which every node has either zero or two children.That is, no nodes have\n",
    "only one child.\n",
    "\n",
    "**Perfect Binary Trees**\n",
    "A perfect binary tree is one that is both full and complete. All leaf nodes will be at the same level, and this\n",
    "level has the maximum number of nodes.\n",
    "\n",
    "**In-Order Traversal**\n",
    "In-order traversal means to \"visit\" (often, print) the left branch, then the current node, and finally, the right branch.\n",
    "Pre-Order Traversal\n",
    "Pre-order traversal visits the current node before its child nodes (hence the name \"pre-order\").\n",
    "Post-Order Traversal\n",
    "Post-order traversal visits the current node after its child nodes (hence the name \"post-order\").\n",
    "\n",
    "**Binary Heaps (Min-Heaps and Max-Heaps)**\n",
    "We'll just discuss min-heaps here. Max-heaps are essentially equivalent, but the elements are in descending order rather than ascending order.\n",
    "\n",
    "A min-heap is a complete binary tree (that is, totally filled other than the rightmost elements on the last level) where each node is smaller than its children. The root, therefore, is the minimum element in the tree\n",
    "\n",
    "We have two key operations on a min-heap: insert and extract_min. Insert\n",
    "When we insert into a min-heap, we always start by inserting the element at the bottom.We insert at the rightmost spot so as to maintain the complete tree property.\n",
    "\n",
    "Then, we \"fix\" the tree by swapping the new element with its parent, until we find an appropriate spot for the element. We essentially bubble up the minimum element.\n"
   ]
  },
  {
   "attachments": {
    "d1.jpg": {
     "image/jpeg": "[encoded data removed]"
    }
   },
   "cell_type": "markdown",
   "metadata": {},
   "source": [
    "## 785. Is Graph Bipartite?\n",
    "<div class=\"alert alert-block alert-success\">\n",
    "Given an undirected graph, return true if and only if it is bipartite.\n",
    "\n",
    "Recall that a graph is bipartite if we can split it's set of nodes into two independent subsets A and B such that every edge in the graph has one node in A and another node in B.\n",
    "\n",
    "The graph is given in the following form: graph[i] is a list of indexes j for which the edge between nodes i and j exists.  Each node is an integer between 0 and graph.length - 1.  There are no self edges or parallel edges: graph[i] does not contain i, and it doesn't contain any element twice.\n",
    "\n",
    "Example 1:\n",
    "Input: [[1,3], [0,2], [1,3], [0,2]] <br>\n",
    "Output: true <br>\n",
    "Explanation: The graph looks like this: <br>\n",
    "0----1 <br>\n",
    "|    | <br>\n",
    "|    | <br>\n",
    "3----2 <br>\n",
    "We can divide the vertices into two groups: {0, 2} and {1, 3}.\n",
    "</div>\n",
    "\n",
    "We try to use two colors to color the graph and see if there are any adjacent nodes having the same color.\n",
    "\n",
    "Initialize a color[] array for each node. Here are three states for colors[] array:\n",
    "1. 0: Haven't been colored yet.\n",
    "1. 1: Blue.\n",
    "1. -1: Red.\n",
    "\n",
    "For each node,\n",
    "\n",
    "* If it hasn't been colored, use a color to color it. Then use the other color to color all its adjacent nodes (DFS).\n",
    "* If it has been colored, check if the current color is the same as the color that is going to be used to color it. \n",
    "\n",
    "![d1.jpg](attachment:d1.jpg)"
   ]
  },
  {
   "cell_type": "code",
   "execution_count": null,
   "metadata": {},
   "outputs": [],
   "source": [
    "def isBipartite(graph):\n",
    "        color = {}\n",
    "        def dfs(pos):\n",
    "            for i in graph[pos]:\n",
    "                if i in color:\n",
    "                    if color[i] == color[pos]: return False\n",
    "                else:\n",
    "                    color[i] = -color[pos]\n",
    "                    if not dfs(i): return False\n",
    "            return True\n",
    "        for i in range(len(graph)):\n",
    "            if i not in color: color[i] = 1\n",
    "            if not dfs(i): return False\n",
    "        return True\n",
    "print(isBipartite([[1,3],[0,2],[1,3],[0,2]]))\n"
   ]
  },
  {
   "cell_type": "code",
   "execution_count": null,
   "metadata": {},
   "outputs": [],
   "source": [
    "import collections\n",
    "def isBipartite(graph):        \n",
    "    n, colored = len(graph), {}\n",
    "    for i in range(n):\n",
    "        if i not in colored :\n",
    "            colored[i] = 1\n",
    "            q = collections.deque([i])\n",
    "            while q:\n",
    "                cur = q.popleft()\n",
    "                for nb in graph[cur]:\n",
    "                    if nb not in colored:\n",
    "                        colored[nb] = -colored[cur]\n",
    "                        q.append(nb)\n",
    "                    elif colored[nb] == colored[cur]:\n",
    "                        return False\n",
    "    return True\n",
    "\n",
    "print(isBipartite([[1,3],[0,2],[1,3],[0,2]]))"
   ]
  },
  {
   "cell_type": "markdown",
   "metadata": {},
   "source": [
    "## 102. Binary Tree Level Order Traversal\n",
    "<div class=\"alert alert-block alert-success\">\n",
    "Given a binary tree, return the level order traversal of its nodes' values. (ie, from left to right, level by level).\n",
    "</div>\n",
    "Some level order traversal questions.\n",
    "\n",
    "* Binary Tree Level Order Traversal\n",
    "* Binary Tree Level Order Traversal II\n",
    "* Binary Tree Zigzag Level Order Traversal\n",
    "* Average of Levels in Binary Tree\n",
    "* Binary Tree Right Side View\n",
    "* Find Largest Value in Each Tree Row\n",
    "* Populating Next Right Pointers in Each Node\n",
    "\n"
   ]
  },
  {
   "cell_type": "code",
   "execution_count": null,
   "metadata": {},
   "outputs": [],
   "source": [
    "def levelOrder(self, root):\n",
    "    if not root:\n",
    "        return []\n",
    "    queue = [[root]]\n",
    "    for level in queue:\n",
    "        lists = []\n",
    "        for node in level:\n",
    "            if node.left:\n",
    "                lists.append(node.left)\n",
    "            if node.right:\n",
    "                lists.append(node.right)\n",
    "        if lists:\n",
    "            queue.append(lists)\n",
    "    return [[x.val for x in level] for level in queue]\n"
   ]
  },
  {
   "cell_type": "code",
   "execution_count": null,
   "metadata": {
    "scrolled": true
   },
   "outputs": [],
   "source": [
    "class TreeNode:\n",
    "    def __init__(self, x):\n",
    "            self.val = x\n",
    "            self.left = None\n",
    "            self.right = None\n",
    "\n",
    "def levelOrder(root):\n",
    "    res = []\n",
    "    if not root:\n",
    "        return res\n",
    "    dfs(res,root,1)\n",
    "    return res;\n",
    "        \n",
    "def dfs(res, node, level):\n",
    "    if not node:\n",
    "        return\n",
    "    cur = []\n",
    "    if level > len(res): # reach new level\n",
    "        res.append([node.val])\n",
    "    else:\n",
    "        res[level-1].extend([node.val])\n",
    "    self.dfs(res,node.left, level+1)\n",
    "    self.dfs(res,node.right,level+1)"
   ]
  },
  {
   "cell_type": "markdown",
   "metadata": {},
   "source": [
    "Given a binary tree, return the bottom-up level order traversal of its nodes' values. (ie, from left to right, level by level from leaf to root)."
   ]
  },
  {
   "cell_type": "code",
   "execution_count": null,
   "metadata": {},
   "outputs": [],
   "source": [
    "def levelOrderBottom(self, root):\n",
    "    stack = [(root,0)]\n",
    "    res =[]\n",
    "    while stack:\n",
    "        node,level = stack.pop()\n",
    "        if node:\n",
    "            if level +1 > len(res):\n",
    "                res.insert(0,[])\n",
    "            res[-(level+1)].append(node.val)\n",
    "            stack.append()"
   ]
  }
 ],
 "metadata": {
  "kernelspec": {
   "display_name": "Python 3",
   "language": "python",
   "name": "python3"
  },
  "language_info": {
   "codemirror_mode": {
    "name": "ipython",
    "version": 3
   },
   "file_extension": ".py",
   "mimetype": "text/x-python",
   "name": "python",
   "nbconvert_exporter": "python",
   "pygments_lexer": "ipython3",
   "version": "3.5.2"
  }
 },
 "nbformat": 4,
 "nbformat_minor": 2
}
