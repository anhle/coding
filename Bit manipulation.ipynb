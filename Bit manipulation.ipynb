{
 "cells": [
  {
   "cell_type": "markdown",
   "metadata": {},
   "source": [
    "## 191. Number of 1 Bits\n",
    "<div class=\"alert alert-block alert-success\">\n",
    "Write a function that takes an unsigned integer and return the number of '1' bits it has (also known as the Hamming weight).\n",
    "\n",
    "Input: 00000000000000000000000000001011\n",
    "\n",
    "Output: 3\n",
    "\n",
    "Explanation: The input binary string 00000000000000000000000000001011 has a total of three '1' bits.\n",
    "</div>\n",
    "**Aproach 1**  Using bit operation to cancel a 1 in each round\n",
    "\n",
    "Think of a number in binary n = XXXXXX1000, n - 1 is XXXXXX0111. n & (n - 1) will be XXXXXX0000 which is just cancel the last 1\n",
    "\n",
    "**Approach 2** Count the leat bit using n&1\n",
    "## 461. Hamming Distance\n",
    "<div class=\"alert alert-block alert-success\">\n",
    "The Hamming distance between two integers is the number of positions at which the corresponding bits are different.\n",
    "\n",
    "Given two integers x and y, calculate the Hamming distance.\n",
    "\n",
    "Note:\n",
    "0 ≤ x, y < 2^31.\n",
    "\n",
    "Example:\n",
    "\n",
    "Input: x = 1, y = 4\n",
    "\n",
    "Output: 2\n",
    "\n",
    "Explanation:\n",
    "1   (0 0 0 1)\n",
    "4   (0 1 0 0)\n",
    "       ↑   ↑\n",
    "\n",
    "The above arrows point to positions where the corresponding bits are different.\n",
    "</div>"
   ]
  },
  {
   "cell_type": "code",
   "execution_count": null,
   "metadata": {},
   "outputs": [],
   "source": [
    "def hammingWeight(n):\n",
    "    cnt = 0\n",
    "    while n:\n",
    "        n = n&(n-1)\n",
    "        cnt +=1\n",
    "    return cnt\n",
    "\n",
    "def hammingWeight(n,count=0):\n",
    "    return hammingWeight(n&(n-1),count+1) if n!=0 else count\n",
    "\n",
    "def hammingWeight(n):\n",
    "    return bin(n).count('1')\n",
    "\n",
    "def hammingDistance(x,y):\n",
    "    return sum( ((x^y)>>i)&1 !=0 for i in range(32))\n",
    "\n",
    "print(hammingDistance(1,4))"
   ]
  },
  {
   "cell_type": "markdown",
   "metadata": {},
   "source": [
    "## 338. Counting Bits\n",
    "<div class=\"alert alert-block alert-success\">\n",
    "Given a non negative integer number num. For every numbers i in the range 0 ≤ i ≤ num calculate the number of 1's in their binary representation and return them as an array.\n",
    "\n",
    "Input: 5\n",
    "Output: [0,1,1,2,1,2]\n",
    "</div>\n",
    "**Approach 1** bruce force with O(n*size(int)) time\n",
    "**Approach 2** single pass with O(n) time\n",
    "we can get following pattern\n",
    "\n",
    "Index : 0 1 2 3 4 5 6 7 8 9 10 11 12 13 14 15\n",
    "\n",
    "num : 0 1 1 2 1 2 2 3 1 2 2 3 2 3 3 4"
   ]
  },
  {
   "cell_type": "markdown",
   "metadata": {},
   "source": [
    "## 190. Reverse Bits\n",
    "<div class=\"alert alert-block alert-success\">\n",
    "Reverse bits of a given 32 bits unsigned integer.\n",
    "\n",
    "\n",
    "Input: 0000001010010100000111101001110\n",
    "\n",
    "Output: 00111001011110000010100101000000\n",
    "\n",
    "Explanation: The input binary string 00000010100101000001111010011100 represents the unsigned integer 43261596, so return 964176192 which its binary representation is 00111001011110000010100101000000.\n",
    "</div>\n"
   ]
  },
  {
   "cell_type": "code",
   "execution_count": null,
   "metadata": {},
   "outputs": [],
   "source": [
    "def reverseBits(n):\n",
    "    res = 0\n",
    "    for _ in range(32):\n",
    "        res = (res<<1)+(n&1)\n",
    "        n>>=1\n",
    "    return res\n",
    "\n",
    "\n",
    "#print(reverseBits(13))\n",
    "print(int(bin(13)[2:].zfill(32)[::-1]),2)"
   ]
  }
 ],
 "metadata": {
  "kernelspec": {
   "display_name": "Python 3",
   "language": "python",
   "name": "python3"
  },
  "language_info": {
   "codemirror_mode": {
    "name": "ipython",
    "version": 3
   },
   "file_extension": ".py",
   "mimetype": "text/x-python",
   "name": "python",
   "nbconvert_exporter": "python",
   "pygments_lexer": "ipython3",
   "version": "3.5.2"
  }
 },
 "nbformat": 4,
 "nbformat_minor": 2
}
