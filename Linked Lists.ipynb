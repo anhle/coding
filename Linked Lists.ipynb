{
 "cells": [
  {
   "cell_type": "markdown",
   "metadata": {},
   "source": [
    "## 2.1 Remove Dups: Write code to remove duplicates from an unsorted linked list. Follow Up: No Buffer Allowed\n",
    "In order to remove duplicates from a linked list, we need to be able to track duplicates. A simple hash table will work well here.\n",
    "If we don't have a buffer, we can iterate with two pointers: current which iterates through the linked list, and runner which checks all subsequent nodes for duplicates."
   ]
  },
  {
   "cell_type": "code",
   "execution_count": 19,
   "metadata": {
    "scrolled": true
   },
   "outputs": [
    {
     "name": "stdout",
     "output_type": "stream",
     "text": [
      "1,3,5\n"
     ]
    }
   ],
   "source": [
    "class Node():\n",
    "    def __init__(self, data, next=None):\n",
    "        self.data, self.next = data, next\n",
    "    def __str__(self):\n",
    "        string = str(self.data)\n",
    "        if self.next:\n",
    "          string += ',' + str(self.next)\n",
    "        return string\n",
    "    \n",
    "def removeDup(head):\n",
    "    current = head\n",
    "    if current:\n",
    "        dict = {current.data:True}\n",
    "        while current.next:\n",
    "            if current.next.data in dict:\n",
    "                current.next = current.next.next\n",
    "            else:\n",
    "                dict[current.next.data] = True\n",
    "                current = current.next\n",
    "\n",
    "def removeDup1(head):\n",
    "    current = head\n",
    "    while current:\n",
    "        runner = current\n",
    "        while runner.next:\n",
    "            if runner.next.data == current.data:\n",
    "                runner.next = runner.next.next\n",
    "            else:\n",
    "                runner = runner.next\n",
    "        \n",
    "        current = current.next\n",
    "            \n",
    "head = Node(1,Node(3,Node(3,Node(1,Node(5,None)))))\n",
    "removeDup1(head)\n",
    "print(str(head))\n"
   ]
  },
  {
   "cell_type": "markdown",
   "metadata": {},
   "source": [
    "## 2.2 Return Kth to Last: Implement an algorithm to find the kth to last element of a singly linked list.\n",
    "## 19. Remove Nth Node From End of List\n",
    "\n",
    "\n",
    "What if you knew the linked list size? What is the difference between finding the Kth-to- last element and finding the Xth element? --> 2 pass algo\n",
    "\n",
    "Try implementing it recursively. If you could find the (K - l )th to last element, can you\n",
    "find the Kth element?\n",
    "\n",
    "Can you do it iteratively? Imagine if you had two pointers pointing to adjacent nodes and they were moving at the same speed through the linked list. When one hits the end of the linked list, where will the other be?"
   ]
  },
  {
   "cell_type": "code",
   "execution_count": 20,
   "metadata": {},
   "outputs": [
    {
     "name": "stdout",
     "output_type": "stream",
     "text": [
      "7,2,9,1,3,8\n"
     ]
    }
   ],
   "source": [
    "class ListNode():\n",
    "    def __init__(self, data, next=None):\n",
    "        self.val, self.next = data, next\n",
    "    def __str__(self):\n",
    "        string = str(self.val)\n",
    "        if self.next:\n",
    "          string += ',' + str(self.next)\n",
    "        return string\n",
    "def removeNthFromEnd(head,n):\n",
    "    fast,slow = head, head\n",
    "    for _ in range(n):\n",
    "        fast = fast.next\n",
    "    # check conner case of removing the head right after the fast cursor got its head start.\n",
    "    if not fast:\n",
    "        return head.next\n",
    "    while fast.next:\n",
    "        slow = slow.next\n",
    "        fast = fast.next\n",
    "    slow.next = slow.next.next\n",
    "    return head\n",
    "head1 = ListNode(7,ListNode(2,ListNode(9,ListNode(1,ListNode(6,ListNode(3,ListNode(8)))))))\n",
    "head2 = removeNthFromEnd(head1, 3)\n",
    "print(str(head2))"
   ]
  },
  {
   "cell_type": "markdown",
   "metadata": {},
   "source": [
    "## 86. Partition List ( 2.4 Partition): Write code to partition a linked list around a value x, such that all nodes less than x come before all nodes greater than or equal to x. \n",
    "\n",
    "You should preserve the original relative order of the nodes in each of the two partitions.\n",
    "\n",
    "> Consider that the elements don't have to stay in the same relative order. We only need to ensure that elements less than the pivot must be before elements greater than the pivot. Does that help you come up with more solutions?\n",
    "\n",
    "If this were an array, we would need to be careful about how we shifted elements. Array shifts are very expensive.However, in a linked list, the situation is much easier. Rather than shifting and swapping elements, we can actually create two different linked lists: one for elements less than x, and one for elements greater than or equal to x."
   ]
  },
  {
   "cell_type": "code",
   "execution_count": 8,
   "metadata": {},
   "outputs": [
    {
     "name": "stdout",
     "output_type": "stream",
     "text": [
      "2,1,3,7,9,6,8\n"
     ]
    }
   ],
   "source": [
    "class ListNode():\n",
    "    def __init__(self, data, next=None):\n",
    "        self.val, self.next = data, next\n",
    "    def __str__(self):\n",
    "        string = str(self.val)\n",
    "        if self.next:\n",
    "          string += ',' + str(self.next)\n",
    "        return string\n",
    "    \n",
    "def partition(head, x):\n",
    "        less=h1 = ListNode(0)\n",
    "        greater=h2=ListNode(0)\n",
    "        while head:\n",
    "            if head.val < x:\n",
    "                less.next = head\n",
    "                less = less.next\n",
    "            else:\n",
    "                greater.next = head\n",
    "                greater = greater.next\n",
    "            head = head.next\n",
    "        greater.next = None\n",
    "        less.next = h2.next\n",
    "        return h1.next\n",
    "head1 = ListNode(7,ListNode(2,ListNode(9,ListNode(1,ListNode(6,ListNode(3,ListNode(8)))))))\n",
    "head2 = partition(head1, 6)\n",
    "print(str(head2))"
   ]
  },
  {
   "attachments": {
    "23_divide_and_conquer_new.png": {
     "image/png": "[encoded data removed]"
    }
   },
   "cell_type": "markdown",
   "metadata": {},
   "source": [
    "<div class=\"alert alert-block alert-success\">\n",
    "23. Merge k Sorted Lists\n",
    "Merge k sorted linked lists and return it as one sorted list. Analyze and describe its complexity.\n",
    "Example:\n",
    "Input:\n",
    "[\n",
    "  1->4->5,\n",
    "  1->3->4,\n",
    "  2->6\n",
    "]\n",
    "Output: 1->1->2->3->4->4->5->6\n",
    "</div>\n",
    "\n",
    "**Approach 1**: Brute Force\n",
    "\n",
    "* Traverse all the linked lists and collect the values of the nodes into an array.\n",
    "* Sort and iterate over this array to get the proper value of nodes.\n",
    "* Create a new sorted linked list and extend it with the new nodes.\n",
    "\n",
    "**Approach 2**: Compare one by one. Time: O(kN), Space: O(N)\n",
    "\n",
    "* Compare every k nodes (head of every linked list) and get the node with the smallest value.\n",
    "* Extend the final sorted linked list with the selected nodes.\n",
    "\n",
    "**Approach 3**: Optimize Approach 2 by Priority Queue. Time: O(Nlogk), O(N)\n",
    "* optimize the comparison process by priority queue\n",
    "\n",
    "**Approach 4**: Merge lists one by one\n",
    "\n",
    "Convert merge $\\text{k}$ lists problem to merge 2 lists $(\\text{k-1})$ times. \n",
    "\n",
    "**Approach 5**: Merge with Divide And Conquer. Time:  O(NlogK), Space: O(1)\n",
    "This approach walks alongside the one above but is improved a lot. We don't need to traverse most nodes many times repeatedly\n",
    "\n",
    "Pair up $\\text{k}$ lists and merge each pair.\n",
    "\n",
    "After the first pairing, $\\text{k}$ lists are merged into k/2 lists with average 2N/k length, then k/4, k/8 and so on.\n",
    "\n",
    "Repeat this procedure until we get the final sorted linked list.\n",
    "\n",
    "Thus, we'll traverse almost N nodes per pairing and merging, and repeat this procedure about $\\log_{2}{k}$ times.\n",
    "![23_divide_and_conquer_new.png](attachment:23_divide_and_conquer_new.png)"
   ]
  },
  {
   "cell_type": "code",
   "execution_count": 32,
   "metadata": {},
   "outputs": [
    {
     "name": "stdout",
     "output_type": "stream",
     "text": [
      "1,1,2,3,4,4,5,6\n"
     ]
    }
   ],
   "source": [
    "class ListNode():\n",
    "    def __init__(self, data, next=None):\n",
    "        self.val, self.next = data, next\n",
    "    def __str__(self):\n",
    "        string = str(self.val)\n",
    "        if self.next:\n",
    "          string += ',' + str(self.next)\n",
    "        return string\n",
    "\n",
    "def mergeKLists1(list):\n",
    "    ret = []\n",
    "    for lst in lists:\n",
    "        while lst:\n",
    "            ret.append(lst.val)\n",
    "            lst = lst.next\n",
    "    return sorted(ret)\n",
    "\n",
    "import heapq\n",
    "\n",
    "def mergeKLists2(list):\n",
    "    ret = tail = ListNode(-1)\n",
    "    heap = [(l.val,index,l) for index,l in enumerate(lists) if l]\n",
    "    heapq.heapify(heap)\n",
    "\n",
    "    while heap:\n",
    "        smallest_val,index,smallest = heapq.heappop(heap)\n",
    "        if smallest.next:\n",
    "            heapq.heappush(heap,(smallest.next.val,index,smallest.next))\n",
    "        tail.next = smallest\n",
    "        tail = smallest\n",
    "    return ret.next\n",
    "\n",
    "def merge2list(l1,l2):\n",
    "        cur = dummy = ListNode(-1)\n",
    "        while l1 and l2:\n",
    "            if l1.val <= l2.val:\n",
    "                cur.next = l1\n",
    "                l1 = l1.next\n",
    "            else:\n",
    "                cur.next = l2\n",
    "                l2 = l2.next\n",
    "            \n",
    "            cur = cur.next\n",
    "        cur.next = l1 or l2\n",
    "        return dummy.next\n",
    "    \n",
    "def mergeKLists5(lists):\n",
    "        n = len(lists)\n",
    "        interval = 1\n",
    "        while interval < n:\n",
    "            for i in range(0,n-interval,interval*2):\n",
    "                lists[i] = merge2list(lists[i],lists[i+interval])\n",
    "            interval *= 2\n",
    "        return lists[0] if n > 0 else lists\n",
    "\n",
    "\n",
    "l1 = ListNode(1,ListNode(4,ListNode(5)))\n",
    "l2 = ListNode(1,ListNode(3,ListNode(4)))\n",
    "l3 = ListNode(2,ListNode(6))\n",
    "lists = [l1,l2,l3]\n",
    "sortedList = mergeKLists5(lists)\n",
    "print(str(sortedList))\n"
   ]
  },
  {
   "cell_type": "markdown",
   "metadata": {},
   "source": [
    "<div class=\"alert alert-block alert-success\">\n",
    "92. Reverse Linked List II\n",
    "Reverse a linked list from position m to n. Do it in one-pass.\n",
    "\n",
    "Note: 1 ≤ m ≤ n ≤ length of list.\n",
    "\n",
    "Example:\n",
    "\n",
    "Input: 1->2->3->4->5->NULL, m = 2, n = 4\n",
    "Output: 1->4->3->2->5->NULL\n",
    "</div>"
   ]
  },
  {
   "cell_type": "code",
   "execution_count": 34,
   "metadata": {},
   "outputs": [
    {
     "name": "stdout",
     "output_type": "stream",
     "text": [
      "1 2 3\n",
      "1,4,3,2,5\n"
     ]
    }
   ],
   "source": [
    "class ListNode():\n",
    "    def __init__(self, data, next=None):\n",
    "        self.val, self.next = data, next\n",
    "    def __str__(self):\n",
    "        string = str(self.val)\n",
    "        if self.next: string += ',' + str(self.next)\n",
    "        return string\n",
    "\n",
    "def reverseBetween(head, m, n):\n",
    "    dummy = prev_m = ListNode(0)\n",
    "    dummy.next = head\n",
    "    # move m-1 node\n",
    "    for _ in range(m-1):\n",
    "        prev_m = prev_m.next\n",
    "    \n",
    "    # reverse nodes from m to n\n",
    "    cur = prev_m.next\n",
    "    prev = None\n",
    "    for _ in range(n-m+1):\n",
    "        nxt = cur.next\n",
    "        cur.next = prev\n",
    "        prev = cur\n",
    "        cur = nxt\n",
    "    \n",
    "    # connect three parts      \n",
    "    prev_m.next.next = cur  # Tricky\n",
    "    prev_m.next = prev\n",
    "\n",
    "    return dummy.next\n",
    "\n",
    "l1 = ListNode(1,ListNode(2,ListNode(3,ListNode(4,ListNode(5)))))\n",
    "print(str(reverseBetween(l1,2,4)))"
   ]
  },
  {
   "cell_type": "markdown",
   "metadata": {},
   "source": [
    "## 114. Flatten Binary Tree to Linked List\n",
    "<div class=\"alert alert-block alert-success\">\n",
    "Given a binary tree, flatten it to a linked list in-place.\n",
    "\n",
    "For example, given the following tree:\n",
    "\n",
    "    1\n",
    "   / \\\n",
    "  2   5\n",
    " / \\   \\\n",
    "3   4   6\n",
    "The flattened tree should look like:\n",
    "\n",
    "1\n",
    " \\\n",
    "  2\n",
    "   \\\n",
    "    3\n",
    "     \\\n",
    "      4\n",
    "       \\\n",
    "        5\n",
    "         \\\n",
    "          6\n",
    "</div>"
   ]
  },
  {
   "cell_type": "code",
   "execution_count": 27,
   "metadata": {
    "code_folding": []
   },
   "outputs": [
    {
     "name": "stdout",
     "output_type": "stream",
     "text": [
      "(1(2(3..)(4..))(5.(6..)))\n"
     ]
    },
    {
     "ename": "NameError",
     "evalue": "name 'self' is not defined",
     "output_type": "error",
     "traceback": [
      "\u001b[0;31m---------------------------------------------------------------------------\u001b[0m",
      "\u001b[0;31mNameError\u001b[0m                                 Traceback (most recent call last)",
      "\u001b[0;32m<ipython-input-27-fa3c58ed556b>\u001b[0m in \u001b[0;36m<module>\u001b[0;34m()\u001b[0m\n\u001b[1;32m     40\u001b[0m \u001b[0mprint\u001b[0m\u001b[0;34m(\u001b[0m\u001b[0mstr\u001b[0m\u001b[0;34m(\u001b[0m\u001b[0mtree1\u001b[0m\u001b[0;34m)\u001b[0m\u001b[0;34m)\u001b[0m\u001b[0;34m\u001b[0m\u001b[0m\n\u001b[1;32m     41\u001b[0m \u001b[0;31m#flatten_dfs_iter(tree1)\u001b[0m\u001b[0;34m\u001b[0m\u001b[0;34m\u001b[0m\u001b[0m\n\u001b[0;32m---> 42\u001b[0;31m \u001b[0mself\u001b[0m\u001b[0;34m.\u001b[0m\u001b[0mflatten1\u001b[0m\u001b[0;34m(\u001b[0m\u001b[0mtree1\u001b[0m\u001b[0;34m)\u001b[0m\u001b[0;34m\u001b[0m\u001b[0m\n\u001b[0m\u001b[1;32m     43\u001b[0m \u001b[0mprint\u001b[0m\u001b[0;34m(\u001b[0m\u001b[0mstr\u001b[0m\u001b[0;34m(\u001b[0m\u001b[0mtree1\u001b[0m\u001b[0;34m)\u001b[0m\u001b[0;34m)\u001b[0m\u001b[0;34m\u001b[0m\u001b[0m\n",
      "\u001b[0;31mNameError\u001b[0m: name 'self' is not defined"
     ]
    }
   ],
   "source": [
    "class TreeNode:\n",
    "    def __init__(self, x, left = None, right = None):\n",
    "        self.data,self.left,self.right = x, left,right\n",
    "    def __str__(self):\n",
    "        string = \"(\" + str(self.data)\n",
    "        if self.left:  string += str(self.left)\n",
    "        else:          string += \".\"\n",
    "        if self.right: string += str(self.right)\n",
    "        else:          string += \".\"\n",
    "        return string + \")\"\n",
    "\n",
    "def flatten1(self,root):\n",
    "    def helper(root):\n",
    "        if not root:\n",
    "            return None\n",
    "        helper(root.left)\n",
    "        helper(root.right)\n",
    "\n",
    "        root.right = self.prev\n",
    "        root.left = None\n",
    "        self.prev = root\n",
    "    self.prev = TreeNode(0)\n",
    "    helper(root)\n",
    "    \n",
    "def flatten_dfs_iter(root):\n",
    "    last = TreeNode(-1)\n",
    "    stack = [root]\n",
    "    while stack:\n",
    "        node = stack.pop()\n",
    "        last.right = node\n",
    "        last.left =None\n",
    "        \n",
    "        if node and node.right:\n",
    "            stack.append(node.right)\n",
    "        if node and node.left:\n",
    "            stack.append(node.left)\n",
    "        last = node\n",
    "        \n",
    "tree1 = TreeNode(1,TreeNode(2,TreeNode(3),TreeNode(4)),TreeNode(5,None,TreeNode(6)))\n",
    "print(str(tree1))\n",
    "#flatten_dfs_iter(tree1)\n",
    "self.flatten1(tree1)\n",
    "print(str(tree1))"
   ]
  }
 ],
 "metadata": {
  "kernelspec": {
   "display_name": "Python 3",
   "language": "python",
   "name": "python3"
  },
  "language_info": {
   "codemirror_mode": {
    "name": "ipython",
    "version": 3
   },
   "file_extension": ".py",
   "mimetype": "text/x-python",
   "name": "python",
   "nbconvert_exporter": "python",
   "pygments_lexer": "ipython3",
   "version": "3.5.2"
  }
 },
 "nbformat": 4,
 "nbformat_minor": 2
}
