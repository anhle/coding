{
 "cells": [
  {
   "cell_type": "markdown",
   "metadata": {},
   "source": [
    "## 322. Coin Change\n",
    "<div class=\"alert alert-block alert-success\">\n",
    "You are given coins of different denominations and a total amount of money amount. Write a function to compute the fewest number of coins that you need to make up that amount. If that amount of money cannot be made up by any combination of the coins, return -1. <br>\n",
    "\n",
    "Input: coins = [1, 2, 5], amount = 11 <br>\n",
    "Output: 3 <br>\n",
    "Explanation: 11 = 5 + 5 + 1\n",
    "</div>\n",
    "\n",
    "**Approach 1:(Brute force) Intuition**\n",
    "\n",
    "The problem could be modeled as the following optimization problem : $\\min_{x} \\sum_{i=0}^{n - 1} x_i \\\\ \\text{subject to} \\sum_{i=0}^{n - 1} x_i*c_i = S $\n",
    "\n",
    ", where S is the amount, $c_i$ is the coin denominations, $x_i$ is the number of coins with denominations $c_i$ used in change of amount S. We could easily see that $x_i = [{0, \\frac{S}{c_i}}]$\n",
    "A trivial solution is to enumerate all subsets of coin frequencies $[x_0\\dots x_{n - 1}]$ that satisfy the constraints above, compute their sums and return the minimum among them.\n",
    "\n",
    "Complexity Analysis\n",
    "\n",
    "Time complexity : $O(S^n)$. In the worst case, complexity is exponential in the number of the coins n. The reason is that every coin denomination $c_i$ could have at most $\\frac{S}{c_i} $\n",
    " values. Therefore the number of possible combinations is :\n",
    "$\\frac{S}{c_1}*\\frac{S}{c_2}*\\frac{S}{c_3}\\ldots\\frac{S}{c_n} = \\frac{S^{n}}{{c_1}*{c_2}*{c_3}\\ldots{c_n}} $\n",
    "\n",
    "Space complexity :$O(n)$. In the worst case the maximum depth of recursion is nn. Therefore we need $O(n)$ space used by the system recursive stack."
   ]
  },
  {
   "cell_type": "code",
   "execution_count": null,
   "metadata": {},
   "outputs": [],
   "source": [
    "def coinChange(self, coins, amount):\n",
    "    coins.sort(reverse = True)\n",
    "    lenc, self.res = len(coins), 2**31-1\n",
    "    \n",
    "    def dfs(pt, rem, count):\n",
    "        if not rem:\n",
    "            self.res = min(self.res, count)\n",
    "        for i in range(pt, lenc):\n",
    "            if coins[i] <= rem < coins[i] * (self.res-count): # if hope still exists\n",
    "                dfs(i, rem-coins[i], count+1)\n",
    "\n",
    "    for i in range(lenc):\n",
    "        dfs(i, amount, 0)\n",
    "    return self.res if self.res < 2**31-1 else -1"
   ]
  },
  {
   "cell_type": "markdown",
   "metadata": {},
   "source": [
    "**Approach 2 (Dynamic programming - Top down)**\n",
    "$F(S)$ minimum number of coins needed to make change for amount $S$ using coin denominations $[{c_0\\ldots c_{n-1}}]$"
   ]
  },
  {
   "cell_type": "markdown",
   "metadata": {},
   "source": [
    "## 8.4 Power Set: Write a method to return all subsets of a set.\n",
    "How many subsets of a set are there? When we generate a subset, each element has the \"choice\" of either being in there or not. That is, for the first element, there are two choices: it is either in the set, or it is not. For the second, there are two, etc. So, doing $\\{2 * 2 * ... \\} n$ times gives us $2^n$ subsets.\n",
    "\n",
    "**Solution 1: Recursion**\n",
    "\n",
    "$P(0)= \\{\\}$\n",
    "\n",
    "$P(1)= \\{\\},\\{a_1\\}$\n",
    "\n",
    "$P(2)= \\{\\},\\{a_1\\},\\{a_2\\},\\{a_1,a_2\\}$\n",
    "\n",
    "How can we use P(2) to create P(3)? We can simply clone the subsets in P(2) and add $a_3$ to them: \n",
    "\n",
    "$P(2)= \\{\\} , \\{a_1\\}, \\{a_2\\},  \\a_1, a_2\\}$\n",
    "\n",
    "$P(2) + a_3 = \\{a3\\} \\{a_1,a_3\\}, \\{a_2, a_3\\}, \\{a_1, a_2, a_3\\}$\n"
   ]
  },
  {
   "cell_type": "code",
   "execution_count": null,
   "metadata": {},
   "outputs": [],
   "source": [
    "# DFS recursively \n",
    "def subsets(nums):\n",
    "    res = []\n",
    "    nums.sort()\n",
    "\n",
    "    def dfs(index, path):\n",
    "        res.append(path)\n",
    "        for i in range(index, len(nums)):\n",
    "            dfs(i+1, path+[nums[i]])\n",
    "\n",
    "    dfs(0, [])\n",
    "    return res\n",
    "\n",
    "print(subsets([1,2,3]))"
   ]
  },
  {
   "cell_type": "code",
   "execution_count": null,
   "metadata": {},
   "outputs": [],
   "source": [
    "# Iteratively\n",
    "def subsets(nums):\n",
    "    res = [[]]\n",
    "    for num in sorted(nums):\n",
    "        res += [item+[num] for item in res]\n",
    "    return res\n",
    "\n",
    "print(subsets([1,2,3]))"
   ]
  },
  {
   "cell_type": "markdown",
   "metadata": {},
   "source": [
    "**Solution 2: Combinatorics**\n",
    "Recall that when we're generating a set, we have two choices for each element: (1) the element is in the set (the \"yes\" state) or (2) the element is not in the set (the \"no\" state).This means that each subset is a sequence of yes|no-e.g., \"yes, yes, no, no, yes, no\"\n",
    "How can we iterate through all possible sequences of\"yes\"|\"no\" states for all elements? If each \"yes\" can be treated as a 1 and each \"no\" can be treated as a 0, then each subset can be represented as a binary string.\n",
    "Generating all subsets, then, really just comes down to generating all binary numbers (that is, all integers). We iterate through all numbers from 0 to $2^n$(exclusive) and translate the binary representation of the numbers into a set."
   ]
  },
  {
   "cell_type": "code",
   "execution_count": null,
   "metadata": {},
   "outputs": [],
   "source": [
    "def subsets2(nums):\n",
    "    res = []\n",
    "    nums.sort()\n",
    "    for i in range(1<<len(nums)):\n",
    "        tmp = []\n",
    "        for j in range(len(nums)): # translate int to subset\n",
    "            if i & 1 << j:  # if i >> j & 1:\n",
    "                tmp.append(nums[j])\n",
    "        res.append(tmp)\n",
    "    return res\n",
    "print(subsets([1,2,3]))"
   ]
  },
  {
   "cell_type": "markdown",
   "metadata": {},
   "source": [
    "## 77. Combinations\n",
    "<div class=\"alert alert-block alert-success\">\n",
    "Given two integers n and k, return all possible combinations of k numbers out of 1 ... n.\n",
    "\n",
    "Input: n = 4, k = 2\n",
    "\n",
    "Output:\n",
    "[\n",
    "  [2,4],\n",
    "  [3,4],\n",
    "  [2,3],\n",
    "  [1,2],\n",
    "  [1,3],\n",
    "  [1,4],\n",
    "]\n",
    "</div>\n",
    "The idea of the mathematical formula C(n,k)=C(n-1,k-1)+C(n-1,k).\n",
    "Here C(n,k) is divided into two situations. Situation one, number n is selected, so we only need to select k-1 from n-1 next. Situation two, number n is not selected, and the rest job is selecting k from n-1.\n"
   ]
  },
  {
   "cell_type": "code",
   "execution_count": 20,
   "metadata": {
    "code_folding": []
   },
   "outputs": [
    {
     "name": "stdout",
     "output_type": "stream",
     "text": [
      "[[1, 2], [1, 3], [2, 3], [1, 4], [2, 4], [3, 4], [1, 5], [2, 5], [3, 5], [4, 5]]\n"
     ]
    }
   ],
   "source": [
    "def combine(n, k):\n",
    "    if k == n: return [list(range(1,n+1))]\n",
    "    if k == 1: return [[i] for i in range(1,n+1)]\n",
    "    return combine(n-1,k) + [prev + [n] for prev in combine(n-1,k-1)]\n",
    "\n",
    "def combine1(n, k):\n",
    "        combs = [[]]\n",
    "        for _ in range(k):\n",
    "            combs = [[i] + c for c in combs for i in range(1, c[0] if c else n+1)]\n",
    "        return combs\n",
    "print(combine1(5,2))"
   ]
  },
  {
   "cell_type": "markdown",
   "metadata": {},
   "source": [
    "## 8.5.Recursive Multiply: Write a recursive function to multiply two positive integers without using the * operator (or / operator). You can use addition, subtraction, and bit shifting, but you should minimize the number of those operations.\n",
    "\n",
    "Think about what it means to do multiplication? Think about multiplying 8 by 9 as counting the number of cells in a matrix with width 8 and height 9. If you wanted to count the cells in an 8x9 matrix, you could count the cells in a 4x9 matrix and then double it. Think about how you might handle this for odd numbers. If there's duplicated work across different recursive calls, can you cache it? If you're doing 9*7(both odd numbers),then you could do 4*7 and 5*7. Alternatively, if you're doing 9 * 7, you could do 4*7, double that, and then add 7."
   ]
  },
  {
   "cell_type": "code",
   "execution_count": null,
   "metadata": {},
   "outputs": [],
   "source": [
    "\n",
    "def minProduct3Helper(a, b,memo):\n",
    "    if a < b:\n",
    "        smaller,bigger = a,b\n",
    "    else:\n",
    "        smaller,bigger = b,a\n",
    "    if smaller == 0:\n",
    "        return 0\n",
    "    elif smaller == 1:\n",
    "        return bigger\n",
    "    elif smaller in memo:\n",
    "        return memo[smaller]\n",
    "    \n",
    "    halfProd = minProduct3Helper(smaller >> 1,bigger,memo)\n",
    "    tmp = 0\n",
    "    if smaller % 2 == 0:\n",
    "        tmp = halfProd + halfProd\n",
    "    else:\n",
    "        tmp = halfProd + halfProd + bigger\n",
    "    memo[smaller] = tmp\n",
    "    return tmp\n",
    "    \n",
    "print(minProduct3Helper(7,8,{}))"
   ]
  },
  {
   "cell_type": "markdown",
   "metadata": {},
   "source": [
    "## 8.8. Permutations without Dups: Write a method to compute all permutations of a string of unique characters.\n",
    "**approach 1: building from permutations of first n-1 characters**\n",
    "We took all the permutations of $a_1a_2$ and added $a_3$ into all possible locations, we would get all permutations of $a_1a_2a_3$.\n",
    "* $P(a_1a_2) = a_1a_2$ and $a_2a_1$\n",
    "\n",
    "* $P(a_1a_2a_3)= $\n",
    "\n",
    "    - $a_1a_2 -> a_3a_1a_2, a_1a_3a_2,a_1a_2a_3$\n",
    "\n",
    "    - $a_2a_1 -> a_2a_2a_1,a_2a_3a_1,a_2a_1a_3$ \n"
   ]
  },
  {
   "cell_type": "code",
   "execution_count": 13,
   "metadata": {
    "scrolled": false
   },
   "outputs": [
    {
     "name": "stdout",
     "output_type": "stream",
     "text": [
      "[[]]\n"
     ]
    }
   ],
   "source": [
    "def getPerms(string):\n",
    "    permutations = []\n",
    "    if string == None:\n",
    "        return None\n",
    "    if len(string) == 0:\n",
    "        #base case\n",
    "        permutations.append(\" \")\n",
    "        return permutations\n",
    "    first = string[0] #get first letter in string\n",
    "    remainder = string[1:]\n",
    "    words = getPerms(remainder) # get all the permutations of remainder\n",
    "    for word in words:\n",
    "        index = 0\n",
    "        for letter in word:\n",
    "            s = word[:index] + first + word[index:] # insert at index position\n",
    "            permutations.append(s)\n",
    "            index += 1\n",
    "    return permutations\n",
    "#print(getPerms(\"anhle\"))\n",
    "\n",
    "def permute(nums):\n",
    "    # insert the first number anywhere in any permutation of the remaining numbers\n",
    "    return nums and [p[:i] + [nums[0]] + p[i:]\n",
    "                    for p in permute(nums[1:])\n",
    "                    for i in range(len(nums))] or [[]]\n",
    "print(permute([1,2,3]))"
   ]
  },
  {
   "cell_type": "markdown",
   "metadata": {},
   "source": [
    "**Approach 2: Building from permutations of all n-1 character substrings.** \n",
    "How can we generate all permutations of three-character strings, such as $a_la_2a_3$, given the permutations of two-character strings? We just need to \"try\" each character $a_1$,$a_2$,$a_3$ as the first character and then append the permutations.\n"
   ]
  },
  {
   "cell_type": "code",
   "execution_count": 16,
   "metadata": {
    "scrolled": true
   },
   "outputs": [
    {
     "name": "stdout",
     "output_type": "stream",
     "text": [
      "[[1, 2, 3], [1, 3, 2], [2, 1, 3], [2, 3, 1], [3, 1, 2], [3, 2, 1]]\n"
     ]
    }
   ],
   "source": [
    "def getPerms2(string):\n",
    "    result = []\n",
    "    getPerms2Inner(\" \", string, result)\n",
    "    return result\n",
    "\n",
    "def getPerms2Inner(prefix, remainder, result):\n",
    "    if len(remainder) == 0:\n",
    "        result.append(prefix)\n",
    "    for i in range(len(remainder)):\n",
    "        c = remainder[i] # try each character\n",
    "        getPerms2Inner(prefix + c, remainder[:i] + remainder[i+1:], result)\n",
    "#print(getPerms(\"anhle\"))\n",
    "\n",
    "def permute(nums):\n",
    "    #take any number as the first number and append any permutation of the others\n",
    "    return [[n] + p\n",
    "            for i,n in enumerate(nums)\n",
    "            for p in permute(nums[:i]+nums[i+1:])] or [[]]\n",
    "print(permute([1,2,3]))"
   ]
  },
  {
   "cell_type": "markdown",
   "metadata": {},
   "source": [
    "## 8.9 Permutations with Dups: Write a method to compute all permutations of a string whose characters are not necessarily unique. The list of permutations should not have duplicates.\n",
    "One simple way of handling this problem is to do the same work to check if a permutation has been created before and then, if not, add it to the list. A simple hash table will do the trick here. This solution will take o(n !) time in the worst case.\n",
    "\n",
    "We can start with computing the count of each letter (easy enough to get this-just use a hash table). For a string such as aabbbbc, this would be: {a->2,b->4,c->1}\n",
    "\n",
    "Let's imagine generating a permutation of this string (now represented as a hash table). The first choice we make is whether to use an a, b, or c as the first character. After that, we have a subproblem to solve:find all permutations of the remaining characters, and append those to the already picked \"prefix:\n",
    "\n",
    "P(a->2 | b->4 | c->l) = {a + P(a ->l | b ->4 | c ->l)} + {b + P(a ->2 | b ->3 | c ->l)} +\n",
    "{c + P(a->2 | b->4 | c ->0)}\n"
   ]
  },
  {
   "cell_type": "code",
   "execution_count": null,
   "metadata": {},
   "outputs": [],
   "source": [
    "import collections\n",
    "def printPerms(string):\n",
    "    result = []\n",
    "    letterCountMap = collections.Counter(string)\n",
    "    printPermsInner(letterCountMap, \"\", len(string), result)\n",
    "    return result\n",
    "\n",
    "def printPermsInner(letterCountMap, prefix, remaining, result):\n",
    "    #base case Permutation has been completed\n",
    "    if remaining == 0:\n",
    "        result.append(prefix)\n",
    "        return\n",
    "    #try remaining letter for next char, and generate remaining permutations\n",
    "    for character in letterCountMap:\n",
    "        count = letterCountMap[character]\n",
    "        if count > 0:\n",
    "            letterCountMap[character] -= 1\n",
    "            printPermsInner(letterCountMap, prefix + character, remaining - 1, result)\n",
    "            letterCountMap[character] = count\n",
    "\n",
    "print(printPerms(\"aaf\"))"
   ]
  },
  {
   "cell_type": "markdown",
   "metadata": {},
   "source": [
    "## 300. Longest Increasing Subsequence\n",
    "\n",
    "<div class=\"alert alert-block alert-success\">\n",
    "Given an unsorted array of integers, find the length of longest increasing subsequence.<br>\n",
    "Input: [10,9,2,5,3,7,101,18] <br>\n",
    "Output: 4 <br>\n",
    "Explanation: The longest increasing subsequence is [2,3,7,101], therefore the length is 4. \n",
    "<div>\n",
    "\n"
   ]
  },
  {
   "cell_type": "code",
   "execution_count": null,
   "metadata": {},
   "outputs": [],
   "source": [
    "# There's a typical DP solution with O(N^2) Time and O(N) space \n",
    "# DP[i] means the result ends at i\n",
    "# So for dp[i], dp[i] is max(dp[j]+1), for all j < i and nums[j] < nums[i]\n",
    "def lengthOfLIS(nums):\n",
    "    if not nums:\n",
    "        return 0\n",
    "    dp = [1]*len(nums)\n",
    "    for i in range (1, len(nums)):\n",
    "        for j in range(i):\n",
    "            if nums[i] >nums[j]:\n",
    "                dp[i] = max(dp[i], dp[j]+1)\n",
    "    return max(dp)\n",
    "\n",
    "print(lengthOfLIS([10,9,2,5,3,7,101,18]))"
   ]
  },
  {
   "cell_type": "markdown",
   "metadata": {},
   "source": [
    "** O(n log n) time, O(1) space **\n",
    "Create a second list S. Do a single pass through nums, and as I look at each element:\n",
    "\n",
    "1. The length of S will be equal to the length of the longest subsequence I've found to that point.\n",
    "1. The last element of S will be the last element of that subsequence. (However, the earlier elements may no longer be part of that sequence -- S is not actually the subsequence itself.)\n",
    "\n",
    "At the end, the length of S will be our solution.\n",
    "\n",
    "S will be sorted at all times. Each new element is inserted into S, replacing the smallest element in S that is not smaller than it (which we can find with a binary search). If that element is larger than the last element of S, then we extend S by one -- maintaining both properties.\n",
    "\n"
   ]
  },
  {
   "cell_type": "code",
   "execution_count": null,
   "metadata": {},
   "outputs": [],
   "source": [
    "def lengthOfLIS(nums):\n",
    "    tails = [0] * len(nums)\n",
    "    size = 0\n",
    "    for x in nums:\n",
    "        left, right = 0, size\n",
    "        while left != right:\n",
    "            mid = (left + right) // 2\n",
    "            if tails[mid] < x:\n",
    "                left = mid + 1\n",
    "            else:\n",
    "                right = mid\n",
    "        tails[left] = x\n",
    "        size = max(left + 1, size)\n",
    "    return size\n",
    "\n",
    "print(lengthOfLIS([10,9,2,5,3,7,101,18]))"
   ]
  },
  {
   "cell_type": "markdown",
   "metadata": {},
   "source": [
    "## 674. Longest Continuous Increasing Subsequence\n",
    "<div class=\"alert alert-block alert-success\">\n",
    "Given an unsorted array of integers, find the length of longest continuous increasing subsequence (subarray).\n",
    "\n",
    "Example 1:\n",
    "Input: [1,3,5,4,7]\n",
    "Output: 3\n",
    "Explanation: The longest continuous increasing subsequence is [1,3,5], its length is 3. \n",
    "Even though [1,3,5,7] is also an increasing subsequence, it's not a continuous one where 5 and 7 are separated by 4. \n",
    "</div>\n",
    "**Approach 1:** Sliding Window\n",
    "Every (continuous) increasing subsequence is disjoint, and the boundary of each such subsequence occurs whenever nums[i-1] >= nums[i]. When it does, it marks the start of a new increasing subsequence at nums[i], and we store such i in the variable anchor."
   ]
  },
  {
   "cell_type": "code",
   "execution_count": 11,
   "metadata": {},
   "outputs": [
    {
     "name": "stdout",
     "output_type": "stream",
     "text": [
      "3\n"
     ]
    }
   ],
   "source": [
    "def findLengthOfLCIS(nums):\n",
    "    ans = anchor = 0\n",
    "    for i in range(len(nums)):\n",
    "        if i and nums[i-1] > nums[i]:\n",
    "            anchor = i\n",
    "        ans = max(ans,i-anchor+1)\n",
    "    return ans\n",
    "\n",
    "def findLengthOfLCIS_DP(nums):\n",
    "    dp = [1]*len(nums)\n",
    "    for i in range(1,len(nums)):\n",
    "        if nums[i] > nums[i-1]:\n",
    "            dp[i] = dp[i-1]+1\n",
    "    return max(dp)\n",
    "\n",
    "print(findLengthOfLCIS([1,3,5,4,7]))"
   ]
  },
  {
   "cell_type": "markdown",
   "metadata": {},
   "source": [
    "## 72. Edit Distance\n",
    "<div class=\"alert alert-block alert-success\">\n",
    "Given two words word1 and word2, find the minimum number of operations required to convert word1 to word2.\n",
    "\n",
    "You have the following 3 operations permitted on a word: Insert a character,Delete a character, Replace a character\n",
    "Example 1:\n",
    "\n",
    "Input: word1 = \"horse\", word2 = \"ros\" <br>\n",
    "Output: 3 <br>\n",
    "Explanation: <br>\n",
    " horse -> rorse (replace 'h' with 'r') <br>\n",
    " rorse -> rose (remove 'r') <br>\n",
    " rose -> ros (remove 'e')\n",
    "</div>"
   ]
  },
  {
   "cell_type": "markdown",
   "metadata": {},
   "source": [
    "It's difficult to crack dynamic programming solutions, I find it easiest to solve by first starting with a naive, but working recursive implementation. Now we just need to handle our base cases, and recursive cases.\n",
    "What happens when we're done with either word? Some thought will tell you that the minimum number of transformations is simply to insert the rest of the other word. This is our base case. What about when we're not done with either string? We'll either match the currently indexed characters in both strings, or mismatch. In the first case, we don't incur any penalty, and we can continue to compare the rest of the strings by recursing on the rest of both strings. In the case of a mismatch, we either insert, delete, or replace. To recap:\n",
    "\n",
    "1. base case: word1 = \"\" or word2 = \"\" => return length of other string\n",
    "1. recursive case: word1[0] == word2[0] => recurse on word1[1:] and word2[1:]\n",
    "1. recursive case: word1[0] != word2[0] => recurse by inserting, deleting, or replacing"
   ]
  },
  {
   "cell_type": "code",
   "execution_count": null,
   "metadata": {
    "code_folding": []
   },
   "outputs": [],
   "source": [
    "def minDistance(word1, word2, i, j, memo):\n",
    "        \"\"\"Memoized solution\"\"\"\n",
    "        if i == len(word1) and j == len(word2):\n",
    "            return 0\n",
    "        if i == len(word1):\n",
    "            return len(word2) - j\n",
    "        if j == len(word2):\n",
    "            return len(word1) - i\n",
    "\n",
    "        if (i, j) not in memo:\n",
    "            if word1[i] == word2[j]:\n",
    "                ans = minDistance(word1, word2, i + 1, j + 1, memo)\n",
    "            else: \n",
    "                insert = 1 + minDistance(word1, word2, i, j + 1, memo)\n",
    "                delete = 1 + minDistance(word1, word2, i + 1, j, memo)\n",
    "                replace = 1 + minDistance(word1, word2, i + 1, j + 1, memo)\n",
    "                ans = min(insert, delete, replace)\n",
    "            memo[(i, j)] = ans\n",
    "        return memo[(i, j)]\n",
    "print(minDistance(\"horse\",\"ros\",0,0,{}))"
   ]
  },
  {
   "cell_type": "code",
   "execution_count": null,
   "metadata": {},
   "outputs": [],
   "source": [
    "We define the state $dp[i][j]$ to be the minimum number of operations to convert word1[0..i - 1] to word2[0..j - 1]. The state equations have two cases: the boundary case and the general case. Note that in the above notations, both i and j take values starting from 1.\n",
    "\n",
    "For the boundary case, that is, to convert a string to an empty string, it is easy to see that the mininum number of operations to convert word1[0..i - 1] to \"\" requires at least i operations (deletions). In fact, the boundary case is simply:\n",
    "\n",
    "1. dp[i][0] = i;\n",
    "1. dp[0][j] = j.\n",
    "\n",
    "Now let's move on to the general case, that is, convert a non-empty word1[0..i - 1] to another non-empty word2[0..j - 1]. Well, let's try to break this problem down into smaller problems (sub-problems). Suppose we have already known how to convert word1[0..i - 2] to word2[0..j - 2], which is dp[i - 1][j - 1]. Now let's consider word[i - 1] and word2[j - 1]. If they are euqal, then no more operation is needed and dp[i][j] = dp[i - 1][j - 1]. Well, what if they are not equal?\n",
    "\n",
    "If they are not equal, we need to consider three cases:\n",
    "\n",
    "1. Replace word1[i - 1] by word2[j - 1] (dp[i][j] = dp[i - 1][j - 1] + 1 (for replacement));\n",
    "1. Delete word1[i - 1] and word1[0..i - 2] = word2[0..j - 1] (dp[i][j] = dp[i - 1][j] + 1 (for deletion));\n",
    "1. Insert word2[j - 1] to word1[0..i - 1] and word1[0..i - 1] + word2[j - 1] = word2[0..j - 1] (dp[i][j] = dp[i][j - 1] + 1 (for insertion)).\n",
    "\n",
    "Make sure you understand the subtle differences between the equations for deletion and insertion. For deletion, we are actually converting word1[0..i - 2] to word2[0..j - 1], which costs dp[i - 1][j], and then deleting the word1[i - 1], which costs 1. The case is similar for insertion.\n",
    "\n",
    "Putting these together, we now have:\n",
    "\n",
    "1. dp[i][0] = i;\n",
    "1. dp[0][j] = j;\n",
    "1. dp[i][j] = dp[i - 1][j - 1], if word1[i - 1] = word2[j - 1];\n",
    "1. dp[i][j] = min(dp[i - 1][j - 1] + 1, dp[i - 1][j] + 1, dp[i][j - 1] + 1), otherwise."
   ]
  },
  {
   "cell_type": "code",
   "execution_count": null,
   "metadata": {},
   "outputs": [],
   "source": [
    "def minDistance(word1, word2):\n",
    "        \"\"\"Dynamic programming solution\"\"\"\n",
    "        m = len(word1)\n",
    "        n = len(word2)\n",
    "        table = [[0] * (n + 1) for _ in range(m + 1)]\n",
    "\n",
    "        for i in range(m + 1):\n",
    "            table[i][0] = i\n",
    "        for j in range(n + 1):\n",
    "            table[0][j] = j\n",
    "\n",
    "        for i in range(1, m + 1):\n",
    "            for j in range(1, n + 1):\n",
    "                if word1[i - 1] == word2[j - 1]:\n",
    "                    table[i][j] = table[i - 1][j - 1]\n",
    "                else:\n",
    "                    table[i][j] = 1 + min(table[i - 1][j], table[i][j - 1], table[i - 1][j - 1])\n",
    "        return table[-1][-1]\n",
    "print(minDistance(\"horse\",\"ros\"))"
   ]
  }
 ],
 "metadata": {
  "kernelspec": {
   "display_name": "Python 3",
   "language": "python",
   "name": "python3"
  },
  "language_info": {
   "codemirror_mode": {
    "name": "ipython",
    "version": 3
   },
   "file_extension": ".py",
   "mimetype": "text/x-python",
   "name": "python",
   "nbconvert_exporter": "python",
   "pygments_lexer": "ipython3",
   "version": "3.5.2"
  }
 },
 "nbformat": 4,
 "nbformat_minor": 2
}
