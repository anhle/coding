{
 "cells": [
  {
   "cell_type": "markdown",
   "metadata": {},
   "source": [
    "## 3.1 Three in One: Describe how you could use a single array to implement three stacks.\n",
    "\n",
    "A stack is simply a data structure in which the most recently added elements are removed first. Can you simulate a single stack using an array? If we're okay with simply allocating a fixed amount of space for each stack, we can do that. This may mean though that one stack runs out of space, while the others are nearly empty.\n",
    "\n",
    "If you want to allow for flexible divisions, you can shift stacks around. Can you ensure that all available capacity is used?\n",
    "\n",
    "Try thinking about the array as circular, such that the end of the array \"wraps around\" to the start of the array."
   ]
  },
  {
   "cell_type": "code",
   "execution_count": 3,
   "metadata": {},
   "outputs": [
    {
     "data": {
      "text/plain": [
       "102"
      ]
     },
     "execution_count": 3,
     "metadata": {},
     "output_type": "execute_result"
    }
   ],
   "source": [
    "class ThreeStacks():\n",
    "  def __init__(self):\n",
    "    self.array = [None, None, None]\n",
    "    self.current = [0, 1, 2]\n",
    "  \n",
    "  def push(self, item, stack_number):\n",
    "    if not stack_number in [0, 1, 2]:\n",
    "      raise Exception(\"Bad stack number\")\n",
    "    while len(self.array) <= self.current[stack_number]:\n",
    "      self.array += [None] * len(self.array)\n",
    "    self.array[self.current[stack_number]] = item\n",
    "    self.current[stack_number] += 3\n",
    "  \n",
    "  def pop(self, stack_number):\n",
    "    if not stack_number in [0, 1, 2]:\n",
    "      raise Exception(\"Bad stack number\")\n",
    "    if self.current[stack_number] > 3:\n",
    "      self.current[stack_number] -= 3\n",
    "    item = self.array[self.current[stack_number]]\n",
    "    self.array[self.current[stack_number]] = None\n",
    "    return item\n",
    "\n",
    "three_s = ThreeStacks()\n",
    "three_s.push(101,0)\n",
    "three_s.push(102,0)\n",
    "three_s.push(201,1)\n",
    "three_s.pop(0)"
   ]
  },
  {
   "cell_type": "markdown",
   "metadata": {},
   "source": [
    "## 3.2 Stack Min: How would you design a stack which, in addition to push and pop, has a function min which returns the minimum element? Push, pop and min should all operate in 0(1) time.\n",
    "\n",
    "Observe that the minimum element doesn't change very often. It only changes when a smaller element is added, or when the smallest element is popped.\n",
    "\n",
    "What if we kept track of extra data at each stack node? What sort of data might make it easier to solve the problem?\n",
    "> One solution is to have just a single int value, minValue, that's a member of the Stack class. When minV alue is popped from the stack, we search through the stack to find the new minimum. Unfortunately, this would break the constraint that push and pop operate in O( 1) time.\n",
    "\n",
    "If we kept track of the minimum at each state, we would be able to easily know the minimum. Consider having each node know the minimum of its \"substack\" (all the elements beneath it, including itself).Then, to find the min, you just look at what the top element thinks is the min.\n",
    "\n",
    "> There's just one issue with this: if we have a large stack, we waste a lot of space by keeping track of the min for every single element. Can we do better?\n",
    "\n",
    "> We can (maybe) do a bit better than this by using an additional stack which keeps track of the mins."
   ]
  },
  {
   "cell_type": "code",
   "execution_count": 2,
   "metadata": {},
   "outputs": [
    {
     "data": {
      "text/plain": [
       "-3"
      ]
     },
     "execution_count": 2,
     "metadata": {},
     "output_type": "execute_result"
    }
   ],
   "source": [
    "class MinStack:\n",
    "    def __init__(self):\n",
    "        self.stack = []\n",
    "        self.minstack = []\n",
    "\n",
    "    def push(self, x):\n",
    "        self.stack.append(x)\n",
    "        if len(self.minstack) == 0 or x <= self.minstack[-1]:\n",
    "            self.minstack.append(x)\n",
    "            \n",
    "    def pop(self):\n",
    "        if self.stack[-1] == self.minstack[-1]:\n",
    "            self.minstack.pop()\n",
    "        self.stack.pop()\n",
    "\n",
    "    def top(self):\n",
    "        return self.stack[-1]\n",
    "\n",
    "    def getMin(self):\n",
    "        return self.minstack[-1]\n",
    "\n",
    "\n",
    "# Your MinStack object will be instantiated and called as such:\n",
    "obj = MinStack()\n",
    "obj.push(-2)\n",
    "obj.push(0)\n",
    "obj.push(-3)\n",
    "obj.getMin()\n"
   ]
  },
  {
   "attachments": {},
   "cell_type": "markdown",
   "metadata": {},
   "source": [
    "## Sort Stack: Write a program to sort a stack such that the smallest items are on the top. You can use an additional temporary stack, but you may not copy the elements into any other data structure (such as an array). \n",
    "\n",
    "We search through the entire stack to find the minimum element and then push that onto a new stack. Then, we find the new minimum element and push that. This will actually require a total of three stacks: s l is the original stack, s2 is the final sorted stack, and s3 acts as a buffer during our searching of sl.To search sl for each minimum, we need to pop elements from sl and push them onto the buffer, s3 . Can we do better? Yes.\n",
    "\n",
    "Imagine s2 is sorted. Can you insert elements into it in sorted order? You might need some extra storage. What could you use for extra storage?\n",
    "\n",
    "Keep s2 in sorted order, with the biggest elements on the top. Use the primary stack for additional storage."
   ]
  },
  {
   "cell_type": "code",
   "execution_count": null,
   "metadata": {},
   "outputs": [],
   "source": [
    "def sortStack(s1):\n",
    "    s2 = []\n",
    "    while s1:\n",
    "        tmp = s1.pop()\n",
    "        while s2 and s2[-1]>tmp:\n",
    "            s1.append(s2.pop())\n",
    "        s2.append(tmp)\n",
    "    # when s2 sorted, copy element from s2 into s1\n",
    "    while s2:\n",
    "        s2.append(s2.pop())"
   ]
  },
  {
   "cell_type": "markdown",
   "metadata": {},
   "source": [
    "## 232. Implement Queue using Stacks\n",
    "The application for this implementation is to separate read & write of a queue in multi-processing. One of the stack is for read, and another is for write. They only interfere each other when the former one is full or latter is empty.\n",
    "\n",
    "Since the major difference between a queue and a stack is the order (first-in first-out vs.last-in first-out), we know that we need to modify peek ( ) and pop ( ) to go in reverse order. How could you remove the oldest item from a stack if you only had access to the newest item?\n",
    "\n",
    "We can remove the oldest item from a stack by repeatedly removing the newest item (inserting those into the temporary stack) until we get down to one element. Then, after we've retrieved the newest item, putting all the elements back. The issue with this is that doing several pops in a row will require 0 (N) work each time. Can we optimize for scenarios where we might do several pops in a row?\n",
    " > We can implement a\"lazy\"approach where we let the elements sit in s2 until we absolutely must reverse the elements."
   ]
  },
  {
   "cell_type": "code",
   "execution_count": 8,
   "metadata": {},
   "outputs": [
    {
     "name": "stdout",
     "output_type": "stream",
     "text": [
      "11\n"
     ]
    }
   ],
   "source": [
    "class QueueViaStack(object):\n",
    "    def __init__(self):\n",
    "        self.inStack, self.outStack = [], []\n",
    "\n",
    "    def push(self, x):\n",
    "        self.inStack.append(x)\n",
    "\n",
    "    def pop(self):\n",
    "        self.move()\n",
    "        self.outStack.pop()\n",
    "\n",
    "    def peek(self):\n",
    "        self.move()\n",
    "        return self.outStack[-1]\n",
    "        \n",
    "    def move(self):\n",
    "        if not self.outStack: ## only when outStack empty\n",
    "            while self.inStack:\n",
    "                self.outStack.append(self.inStack.pop())\n",
    "q = QueueViaStack()\n",
    "q.push(11)\n",
    "q.push(22)\n",
    "q.push(33)\n",
    "print(q.peek())"
   ]
  }
 ],
 "metadata": {
  "kernelspec": {
   "display_name": "Python 3",
   "language": "python",
   "name": "python3"
  },
  "language_info": {
   "codemirror_mode": {
    "name": "ipython",
    "version": 3
   },
   "file_extension": ".py",
   "mimetype": "text/x-python",
   "name": "python",
   "nbconvert_exporter": "python",
   "pygments_lexer": "ipython3",
   "version": "3.5.2"
  }
 },
 "nbformat": 4,
 "nbformat_minor": 2
}
